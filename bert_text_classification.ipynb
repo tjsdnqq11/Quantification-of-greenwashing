{
 "cells": [
  {
   "cell_type": "code",
   "execution_count": 6,
   "metadata": {},
   "outputs": [
    {
     "name": "stderr",
     "output_type": "stream",
     "text": [
      "Downloading (…)solve/main/vocab.txt: 100%|██████████| 996k/996k [00:00<00:00, 3.68MB/s]\n",
      "Downloading (…)okenizer_config.json: 100%|██████████| 29.0/29.0 [00:00<00:00, 4.88kB/s]\n",
      "Downloading (…)lve/main/config.json: 100%|██████████| 625/625 [00:00<00:00, 477kB/s]\n",
      "Downloading model.safetensors: 100%|██████████| 714M/714M [01:01<00:00, 11.6MB/s] \n",
      "Some weights of BertForSequenceClassification were not initialized from the model checkpoint at bert-base-multilingual-cased and are newly initialized: ['classifier.weight', 'classifier.bias']\n",
      "You should probably TRAIN this model on a down-stream task to be able to use it for predictions and inference.\n"
     ]
    },
    {
     "name": "stdout",
     "output_type": "stream",
     "text": [
      "Class N: 623 texts\n",
      "Class G: 25 texts\n",
      "Class I: 22 texts\n",
      "Class E: 4 texts\n",
      "Class S: 2 texts\n"
     ]
    }
   ],
   "source": [
    "from transformers import BertTokenizer, BertForSequenceClassification\n",
    "import torch\n",
    "from torch.nn import functional as F\n",
    "from collections import defaultdict\n",
    "\n",
    "# Initialize the BERT tokenizer and model\n",
    "tokenizer = BertTokenizer.from_pretrained('bert-base-multilingual-cased')\n",
    "model = BertForSequenceClassification.from_pretrained('bert-base-multilingual-cased', num_labels=5)  # 5 classes: E, S, G, N, I\n",
    "\n",
    "text_list = [] # Report data\n",
    "\n",
    "# Map the predicted index to the corresponding class label\n",
    "label_map = {0: 'E', 1: 'S', 2: 'G', 3: 'N', 4: 'I'}\n",
    "\n",
    "# Dictionary to store the frequency of each class\n",
    "label_count = defaultdict(int)\n",
    "\n",
    "# Classify each sentence in the text list\n",
    "for text in text_list:\n",
    "    # Tokenize the text and obtain the output tensors\n",
    "    inputs = tokenizer(text, padding=True, truncation=True, return_tensors=\"pt\")\n",
    "\n",
    "    # Forward pass\n",
    "    with torch.no_grad():\n",
    "        outputs = model(**inputs)\n",
    "\n",
    "    # Compute probabilities using softmax\n",
    "    logits = outputs.logits\n",
    "    probabilities = F.softmax(logits, dim=-1)\n",
    "\n",
    "    # Get the predicted label index\n",
    "    predicted_index = torch.argmax(probabilities, dim=-1).item()\n",
    "\n",
    "    # Map the predicted index to the corresponding class label\n",
    "    predicted_label = label_map[predicted_index]\n",
    "\n",
    "    # Update the label count\n",
    "    label_count[predicted_label] += 1\n",
    "\n",
    "# Print the frequency of each class\n",
    "for label, count in label_count.items():\n",
    "    print(f\"Class {label}: {count} texts\")\n",
    "\n"
   ]
  }
 ],
 "metadata": {
  "kernelspec": {
   "display_name": "Python 3",
   "language": "python",
   "name": "python3"
  },
  "language_info": {
   "codemirror_mode": {
    "name": "ipython",
    "version": 3
   },
   "file_extension": ".py",
   "mimetype": "text/x-python",
   "name": "python",
   "nbconvert_exporter": "python",
   "pygments_lexer": "ipython3",
   "version": "3.9.6"
  },
  "orig_nbformat": 4
 },
 "nbformat": 4,
 "nbformat_minor": 2
}
